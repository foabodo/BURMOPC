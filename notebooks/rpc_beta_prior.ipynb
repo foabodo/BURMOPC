{
 "cells": [
  {
   "cell_type": "code",
   "execution_count": null,
   "metadata": {},
   "outputs": [],
   "source": [
    "import arviz as az\n",
    "import matplotlib.pyplot as plt\n",
    "import numpy as np\n",
    "import pandas as pd\n",
    "import pymc as pm\n",
    "import pytensor.tensor as pt\n",
    "\n",
    "rng = np.random.default_rng(0)"
   ]
  },
  {
   "cell_type": "code",
   "execution_count": null,
   "metadata": {},
   "outputs": [],
   "source": [
    "near_zero = 1e-12\n",
    "\n",
    "def min_max_scale(x, min=near_zero, max=1. - near_zero):\n",
    "    x_scaled = (x - np.min(x, axis=0)) / (np.max(x, axis=0) - np.min(x, axis=0))\n",
    "    x_scaled = x_scaled * (max - min) + min\n",
    "    return x_scaled"
   ]
  },
  {
   "cell_type": "code",
   "execution_count": null,
   "metadata": {},
   "outputs": [],
   "source": [
    "gapminder_series = pd.read_csv(\"./data/gapminder_quality_of_life_2005_dataset.csv\", index_col=\"country\")\n",
    "gapminder_data = gapminder_series.values\n",
    "\n",
    "gapminder_data = min_max_scale(gapminder_data)\n",
    "\n",
    "gapminder_data[:, 1] = 1. - gapminder_data[:, 1]\n",
    "gapminder_data[:, 2] = 1. - gapminder_data[:, 2]\n",
    "\n",
    "X = np.transpose(gapminder_data)"
   ]
  },
  {
   "cell_type": "code",
   "execution_count": null,
   "metadata": {},
   "outputs": [],
   "source": [
    "num_scores, dims = gapminder_data.shape\n",
    "\n",
    "alpha_prior = np.repeat([.75], dims) + .25 * (rng.random(dims) - .5)\n",
    "p_1_prior = np.repeat([.3125], dims) + .25 * (rng.random(dims) - .5)\n",
    "p_2_prior = np.repeat([.6875], dims) + .25 * (rng.random(dims) - .5)\n",
    "s_prior = np.mean(X, axis=0)\n",
    "\n",
    "point_sigma_prior_mu = .1\n",
    "score_sigma_prior_mu = .135\n",
    "X_reconstruction_sigma_prior_mu = np.repeat(.125, dims)\n",
    "\n",
    "sigma_prior_sigma = .1\n",
    "sigma_prior_upper_bound_delta = .01"
   ]
  },
  {
   "cell_type": "code",
   "execution_count": null,
   "metadata": {},
   "outputs": [],
   "source": [
    "with pm.Model() as model:\n",
    "    point_sigma = pm.TruncatedNormal(\n",
    "        name=\"point_sigma\", \n",
    "        mu=point_sigma_prior_mu, \n",
    "        sigma=sigma_prior_sigma, \n",
    "        lower=near_zero, \n",
    "        upper=point_sigma_prior_mu + sigma_prior_upper_bound_delta - near_zero\n",
    "        )\n",
    "    score_sigma = pm.TruncatedNormal(\n",
    "        name=\"score_sigma\", \n",
    "        mu=score_sigma_prior_mu,\n",
    "        sigma=sigma_prior_sigma, \n",
    "        lower=near_zero, \n",
    "        upper=score_sigma_prior_mu + sigma_prior_upper_bound_delta - near_zero\n",
    "        )\n",
    "    X_reconstruction_sigma = pm.TruncatedNormal(\n",
    "        name=\"X_reconstruction_sigma\", \n",
    "        mu=X_reconstruction_sigma_prior_mu,\n",
    "        sigma=sigma_prior_sigma,\n",
    "        lower=near_zero, \n",
    "        upper=X_reconstruction_sigma_prior_mu + sigma_prior_upper_bound_delta - near_zero\n",
    "        )\n",
    "    alpha = pm.Beta(\n",
    "        name=\"alpha\", \n",
    "        mu=alpha_prior, \n",
    "        sigma=point_sigma\n",
    "        )\n",
    "    p_0 = pm.Deterministic(\n",
    "        name=\"p_0\", var=.5 * (1. - alpha)\n",
    "        )\n",
    "    p_1 = pm.Beta(\n",
    "        name=\"p_1\", \n",
    "        mu=p_1_prior, \n",
    "        sigma=point_sigma\n",
    "        )\n",
    "    p_2 = pm.Beta(\n",
    "        name=\"p_2\", \n",
    "        mu=p_2_prior, \n",
    "        sigma=point_sigma\n",
    "        )\n",
    "    p_3 = pm.Deterministic(\n",
    "        name=\"p_3\", var=.5 * (1. + alpha)\n",
    "        )\n",
    "    s = pm.Beta(\n",
    "        name=\"s\", \n",
    "        mu=s_prior, \n",
    "        sigma=score_sigma\n",
    "        )\n",
    "\n",
    "    Z = pm.math.stack(\n",
    "        [pt.ones((num_scores,)),\n",
    "         s,\n",
    "         s ** 2.,\n",
    "         s ** 3.],\n",
    "         axis=0\n",
    "    )\n",
    "    M = pt.as_tensor(\n",
    "        [[1., -3.,  3., -1.], \n",
    "         [0.,  3., -6.,  3.],\n",
    "         [0.,  0.,  3., -3.], \n",
    "         [0.,  0.,  0.,  1.]]\n",
    "        )\n",
    "    P = pm.math.stack(\n",
    "        [pt.transpose(p_0), \n",
    "         pt.transpose(p_1), \n",
    "         pt.transpose(p_2), \n",
    "         pt.transpose(p_3)], \n",
    "        axis=1\n",
    "        )\n",
    "    X_reconstruction_mu = pm.math.matmul(pm.math.matmul(P, M), Z)\n",
    "\n",
    "    for i in range(dims):\n",
    "        X_reconstruction = pm.Beta(\n",
    "            name=f\"X_reconstruction_{i}\", \n",
    "            mu=X_reconstruction_mu[i, :], \n",
    "            sigma=X_reconstruction_sigma[i],\n",
    "            observed=X[i, :]\n",
    "            )"
   ]
  },
  {
   "cell_type": "code",
   "execution_count": null,
   "metadata": {},
   "outputs": [],
   "source": [
    "pm.model_to_graphviz(model)"
   ]
  },
  {
   "cell_type": "code",
   "execution_count": null,
   "metadata": {},
   "outputs": [],
   "source": [
    "with model:\n",
    "    predictions = pm.sample_prior_predictive(samples=1000, random_seed=rng)\n",
    "\n",
    "az.plot_ppc(predictions, group=\"prior\")"
   ]
  },
  {
   "cell_type": "code",
   "execution_count": null,
   "metadata": {},
   "outputs": [],
   "source": [
    "initvals = {\n",
    "    \"point_sigma\": point_sigma_prior_mu,\n",
    "    \"score_sigma\": score_sigma_prior_mu,\n",
    "    \"X_reconstruction_sigma\": X_reconstruction_sigma_prior_mu,\n",
    "    \"alpha\": alpha_prior,\n",
    "    \"p_1\": p_1_prior,\n",
    "    \"p_2\": p_2_prior,\n",
    "    \"s\": s_prior\n",
    "    }\n",
    "\n",
    "with model:\n",
    "    idata1 = pm.sample(\n",
    "        nuts_sampler=\"pymc\",\n",
    "        nuts_sampler_kwargs={\"chain_method\": \"vectorized\"},\n",
    "        target_accept=.99,\n",
    "        random_seed=rng,\n",
    "        tune=1000,\n",
    "        draws=1000,\n",
    "        chains=4,\n",
    "        cores=4,\n",
    "        initvals=initvals\n",
    "    )"
   ]
  },
  {
   "cell_type": "code",
   "execution_count": null,
   "metadata": {},
   "outputs": [],
   "source": [
    "with model:\n",
    "    idata1 = pm.sample_posterior_predictive(\n",
    "        idata1, extend_inferencedata=True, random_seed=rng)"
   ]
  },
  {
   "cell_type": "code",
   "execution_count": null,
   "metadata": {},
   "outputs": [],
   "source": [
    "date_time = \"2024-05-19_0945\"\n",
    "az.to_netcdf(idata1, f\"./results/rpc_pymc_{date_time}.nc\")"
   ]
  },
  {
   "cell_type": "code",
   "execution_count": null,
   "metadata": {},
   "outputs": [],
   "source": [
    "ppc_plot = az.plot_ppc(idata1)\n",
    "plt.savefig(f'./results/rpc_pymc_{date_time}_ppc_plot.png')"
   ]
  },
  {
   "cell_type": "code",
   "execution_count": null,
   "metadata": {},
   "outputs": [],
   "source": [
    "alpha_trace_plot = az.plot_trace(idata1, var_names=['alpha'])\n",
    "fig = alpha_trace_plot.flatten()[0].get_figure()\n",
    "fig.savefig(f'./results/rpc_pymc_{date_time}_alpha_trace_plot.png')"
   ]
  },
  {
   "cell_type": "code",
   "execution_count": null,
   "metadata": {},
   "outputs": [],
   "source": [
    "p_0_trace_plot = az.plot_trace(idata1, var_names=['p_0'])\n",
    "fig = p_0_trace_plot.flatten()[0].get_figure()\n",
    "fig.savefig(f'./results/rpc_pymc_{date_time}_p_0_trace_plot.png')"
   ]
  },
  {
   "cell_type": "code",
   "execution_count": null,
   "metadata": {},
   "outputs": [],
   "source": [
    "p_1_trace_plot = az.plot_trace(idata1, var_names=['p_1'])\n",
    "fig = p_1_trace_plot.flatten()[0].get_figure()\n",
    "fig.savefig(f'./results/rpc_pymc_{date_time}_p_1_trace_plot.png')"
   ]
  },
  {
   "cell_type": "code",
   "execution_count": null,
   "metadata": {},
   "outputs": [],
   "source": [
    "p_2_trace_plot = az.plot_trace(idata1, var_names=['p_2'])\n",
    "fig = p_2_trace_plot.flatten()[0].get_figure()\n",
    "fig.savefig(f'./results/rpc_pymc_{date_time}_p_2_trace_plot.png')"
   ]
  },
  {
   "cell_type": "code",
   "execution_count": null,
   "metadata": {},
   "outputs": [],
   "source": [
    "p_3_trace_plot = az.plot_trace(idata1, var_names=['p_3'])\n",
    "fig = p_3_trace_plot.flatten()[0].get_figure()\n",
    "fig.savefig(f'./results/rpc_pymc_{date_time}_p_3_trace_plot.png')"
   ]
  },
  {
   "cell_type": "code",
   "execution_count": null,
   "metadata": {},
   "outputs": [],
   "source": [
    "point_sigma_trace_plot = az.plot_trace(idata1, var_names=['point_sigma'])\n",
    "fig = point_sigma_trace_plot.flatten()[0].get_figure()\n",
    "fig.savefig(f'./results/rpc_pymc_{date_time}_point_sigma_trace_plot.png')"
   ]
  },
  {
   "cell_type": "code",
   "execution_count": null,
   "metadata": {},
   "outputs": [],
   "source": [
    "score_sigma_trace_plot = az.plot_trace(idata1, var_names=['score_sigma'])\n",
    "fig = score_sigma_trace_plot.flatten()[0].get_figure()\n",
    "fig.savefig(f'./results/rpc_pymc_{date_time}_score_sigma_trace_plot.png')"
   ]
  },
  {
   "cell_type": "code",
   "execution_count": null,
   "metadata": {},
   "outputs": [],
   "source": [
    "X_reconstruction_sigma_trace_plot = az.plot_trace(idata1, var_names=['X_reconstruction_sigma'])\n",
    "fig = X_reconstruction_sigma_trace_plot.flatten()[0].get_figure()\n",
    "fig.savefig(f'./results/rpc_pymc_{date_time}_X_reconstruction_sigma_trace_plot.png')"
   ]
  },
  {
   "cell_type": "code",
   "execution_count": null,
   "metadata": {},
   "outputs": [],
   "source": [
    "posterior = idata1.posterior.stack(sample=(\"chain\", \"draw\"))\n",
    "plt.hist(posterior[\"s\"][0], 25, alpha=0.2, color='k')\n",
    "plt.savefig(f'./results/rpc_pymc_{date_time}_s_hist_plot.png')"
   ]
  },
  {
   "cell_type": "code",
   "execution_count": null,
   "metadata": {},
   "outputs": [],
   "source": [
    "posterior_s = idata1.posterior['s']\n",
    "mean_score = posterior_s.mean(('chain', 'draw'))\n",
    "y = np.linspace(0, 1, len(mean_score))\n",
    "hdi = az.hdi(posterior_s).sortby(mean_score)\n",
    "plt.plot(mean_score.sortby(mean_score), y)\n",
    "plt.fill_betweenx(y, hdi['s'].values[:, 0], hdi['s'].values[:, 1], alpha=0.3)\n",
    "plt.savefig(f'{date_time}_scores_hdi_plot.png')"
   ]
  },
  {
   "cell_type": "code",
   "execution_count": null,
   "metadata": {},
   "outputs": [],
   "source": [
    "scores_mean = np.mean(posterior[\"s\"], axis=1)\n",
    "gapminder_series.insert(4, \"score\", scores_mean)\n",
    "# gapminder_series[\"score\"] = scores\n",
    "gapminder_series"
   ]
  },
  {
   "cell_type": "code",
   "execution_count": null,
   "metadata": {},
   "outputs": [],
   "source": [
    "gapminder_series.sort_values(\"score\", inplace=True, ascending=False)\n",
    "gapminder_series"
   ]
  },
  {
   "cell_type": "code",
   "execution_count": null,
   "metadata": {},
   "outputs": [],
   "source": [
    "gapminder_series.to_csv(f\"./data/gapminder_quality_of_life_{date_time}_with_scores.csv\")"
   ]
  }
 ],
 "metadata": {
  "kernelspec": {
   "display_name": "irt",
   "language": "python",
   "name": "python3"
  },
  "language_info": {
   "codemirror_mode": {
    "name": "ipython",
    "version": 3
   },
   "file_extension": ".py",
   "mimetype": "text/x-python",
   "name": "python",
   "nbconvert_exporter": "python",
   "pygments_lexer": "ipython3",
   "version": "3.11.8"
  }
 },
 "nbformat": 4,
 "nbformat_minor": 2
}
